{
 "cells": [
  {
   "cell_type": "markdown",
   "metadata": {},
   "source": [
    "# FFMPEG\n",
    "## Piping numpy arrays into FFMPEG\n"
   ]
  },
  {
   "cell_type": "code",
   "execution_count": null,
   "metadata": {},
   "outputs": [],
   "source": [
    "import subprocess as sp\n",
    "command = [ 'ffmpeg', \n",
    "           '-f', 'rawvideo', '-vcodec','rawvideo', \n",
    "           '-s', '1920x1080', # size of one frame \n",
    "           '-pix_fmt', 'rgb24', \n",
    "           '-r', '24', # frames per second \n",
    "           '-i', '-', # The imput comes from a pipe \n",
    "           '-an', # Tells FFMPEG not to expect any audio \n",
    "           '-vcodec', 'libx265', \n",
    "           'my_output_videofile.mp4' ]\n",
    "\n",
    "pipe = sp.Popen( command, stdin=sp.PIPE, stderr=sp.PIPE)\n",
    "\n",
    "# pipe = sp.Popen(command, stdin=sp.PIPE,stderr=sp.PIPE)\n",
    "while (cap.isOpened()):\n",
    "ret, frame = cap.read()\n",
    "# Do some stuff\n",
    "pipe.proc.stdin.write( my_image_array.tostring() )"
   ]
  },
  {
   "cell_type": "markdown",
   "metadata": {},
   "source": [
    "http://zulko.github.io/blog/2013/09/27/read-and-write-video-frames-in-python-using-ffmpeg/"
   ]
  },
  {
   "cell_type": "code",
   "execution_count": null,
   "metadata": {},
   "outputs": [],
   "source": [
    "import subprocess as sp\n",
    "import numpy as np\n",
    "\n",
    "def get_frame(file, time=\"00:00:00\", shape=(1920, 1080, 3)):\n",
    "    command = [ 'ffmpeg', \n",
    "               '-ss', time, \n",
    "               '-i', file, \n",
    "               '-f', 'image2pipe', \n",
    "               '-pix_fmt', 'rgb24', \n",
    "               '-vcodec', 'rawvideo', '-']\n",
    "    pipe = sp.Popen(command, stdout=sp.PIPE, bufsize=10**8)\n",
    "    width = shape[0]\n",
    "    height = shape[1]\n",
    "    depth = shape[2]\n",
    "    frame_size = width * height * depth\n",
    "    raw_image = pipe.stdout.read(frame_size)\n",
    "    # transform the byte read into a numpy array\n",
    "    image =  numpy.frombuffer(raw_image, dtype='uint8')\n",
    "    image = image.reshape((height, width, depth))\n",
    "\n",
    "    # throw away the data in the pipe's buffer.\n",
    "    pipe.stdout.flush()\n",
    "    return image"
   ]
  },
  {
   "cell_type": "code",
   "execution_count": null,
   "metadata": {},
   "outputs": [],
   "source": [
    "from PIL import Image\n",
    "\n",
    "file = \"./data/bonnie_1080.mp4\"\n",
    "time = [\"00:10:00\", \"00:20:00\", \"00:30:00\"]#, \"02:00:00\"]\n",
    "\n",
    "\n",
    "for i, t in enumerate(time):\n",
    "    frame_image = get_frame(file, time=t, shape=(1920, 1080, 3))\n",
    "    Image.fromarray(frame_image).save(\"./data/bonnie_1080_{}.tif\".format(i), format=\"tiff\")"
   ]
  },
  {
   "cell_type": "code",
   "execution_count": null,
   "metadata": {},
   "outputs": [],
   "source": [
    "import subprocess as sp\n",
    "\n",
    "FFMPEG_BIN = \"ffmpeg\"\n",
    "# FFMPEG_BIN = \"ffmpeg.exe\"\n",
    "video = \"./data/aquaman_1080p.mp4\"\n",
    "# bufsize = 1920 * 800 * 3 * 8\n",
    "command = [ FFMPEG_BIN, \n",
    "           '-ss', '01:00:00', \n",
    "           '-i', video, \n",
    "           #'-ss', '1', \n",
    "           '-f', 'image2pipe', \n",
    "           '-pix_fmt', 'rgb24', \n",
    "           '-vcodec', 'rawvideo', '-']\n",
    "pipe = sp.Popen(command, stdout = sp.PIPE, bufsize=10**8)"
   ]
  },
  {
   "cell_type": "code",
   "execution_count": null,
   "metadata": {},
   "outputs": [],
   "source": [
    "import numpy\n",
    "# read 420*360*3 bytes (= 1 frame)\n",
    "frame_width = 1920\n",
    "frame_height = 800\n",
    "frame_depth = 3\n",
    "frame_size = frame_width * frame_height * frame_depth\n",
    "raw_image = pipe.stdout.read(frame_size)\n",
    "# transform the byte read into a numpy array\n",
    "image_string =  numpy.fromstring(raw_image, dtype='uint8')\n",
    "image_buffer =  numpy.frombuffer(raw_image, dtype='uint8')\n",
    "\n",
    "image_string = image_string.reshape((frame_height, frame_width, frame_depth))\n",
    "image_buffer = image_buffer.reshape((frame_height, frame_width, frame_depth))\n",
    "\n",
    "# throw away the data in the pipe's buffer.\n",
    "pipe.stdout.flush()"
   ]
  },
  {
   "cell_type": "code",
   "execution_count": null,
   "metadata": {},
   "outputs": [],
   "source": [
    "%matplotlib inline\n",
    "import matplotlib.pyplot as plt\n",
    "from PIL import Image\n",
    "\n",
    "def showframe(frame):\n",
    "    #rows, cols, depth = frame.shape\n",
    "    #extent = (0, cols, rows, 0)\n",
    "    fig, ax = plt.subplots()\n",
    "    ax.imshow(frame)#, extent=extent)\n",
    "    #ax.set_axis_off()\n",
    "    #fig.tight_layout(pad=0)\n",
    "    fig.show()\n",
    "\n",
    "showframe(image_string)\n",
    "showframe(image_buffer)\n",
    "Image.fromarray(image_buffer).save(\"./data/aquaman_2.tif\", format=\"tiff\")"
   ]
  },
  {
   "cell_type": "markdown",
   "metadata": {},
   "source": [
    "You can also get informations on a file (frames size, number of frames per second, etc.) by calling:"
   ]
  },
  {
   "cell_type": "code",
   "execution_count": null,
   "metadata": {},
   "outputs": [],
   "source": [
    "FFMPEG_BIN = \"ffmpeg\"\n",
    "video = \"./data/aquaman_1080p.mp4\"\n",
    "\n",
    "command = [FFMPEG_BIN, '-i', video, '-']\n",
    "pipe = sp.Popen(command, stdout=sp.PIPE, stderr=sp.PIPE)\n",
    "# with sp.Popen(command, stdout=sp.PIPE, stderr=sp.PIPE) as pipe:\n",
    "while pipe.stderr:\n",
    "    info = pipe.stderr.readline()\n",
    "    print(info)\n",
    "\n",
    "    #info_stdout = pipe.stdout.readline()\n",
    "    #print(\"Info: {}\".format(info_stderr))\n",
    "\n",
    "# info_stdout = pipe.stdout.readline()\n",
    "# info_stderr = pipe.stderr.readline()\n",
    "# pipe.terminate()\n",
    "# infos = proc.stderr.read()"
   ]
  },
  {
   "cell_type": "markdown",
   "metadata": {},
   "source": [
    "# Convert .MOV to .MP4"
   ]
  },
  {
   "cell_type": "markdown",
   "metadata": {},
   "source": [
    "The command to just stream it to a new container (mp4) needed by some applications like premiere without encoding (fast) is:"
   ]
  },
  {
   "cell_type": "code",
   "execution_count": 1,
   "metadata": {},
   "outputs": [],
   "source": [
    "ffmpeg -i movie.mov -vcodec copy -acodec copy out.mp4"
   ]
  },
  {
   "cell_type": "markdown",
   "metadata": {},
   "source": [
    "Alternative as mentioned in the comments, which re-encodes with best quaility (-qscale 0):"
   ]
  },
  {
   "cell_type": "code",
   "execution_count": 1,
   "metadata": {},
   "outputs": [
    {
     "ename": "SyntaxError",
     "evalue": "invalid syntax (<ipython-input-1-266b86935694>, line 1)",
     "output_type": "error",
     "traceback": [
      "\u001b[1;36m  File \u001b[1;32m\"<ipython-input-1-266b86935694>\"\u001b[1;36m, line \u001b[1;32m1\u001b[0m\n\u001b[1;33m    The command to just stream it to a new container (mp4) needed by some applications like premiere without encoding (fast) is:\u001b[0m\n\u001b[1;37m              ^\u001b[0m\n\u001b[1;31mSyntaxError\u001b[0m\u001b[1;31m:\u001b[0m invalid syntax\n"
     ]
    }
   ],
   "source": [
    "ffmpeg -i movie.mov -qscale 0 output.mp4"
   ]
  },
  {
   "cell_type": "code",
   "execution_count": null,
   "metadata": {},
   "outputs": [],
   "source": []
  }
 ],
 "metadata": {
  "kernelspec": {
   "display_name": "OpenCV",
   "language": "python",
   "name": "opencv"
  },
  "language_info": {
   "codemirror_mode": {
    "name": "ipython",
    "version": 3
   },
   "file_extension": ".py",
   "mimetype": "text/x-python",
   "name": "python",
   "nbconvert_exporter": "python",
   "pygments_lexer": "ipython3",
   "version": "3.7.3"
  }
 },
 "nbformat": 4,
 "nbformat_minor": 2
}
