{
 "cells": [
  {
   "cell_type": "markdown",
   "metadata": {},
   "source": [
    "# OpenCV\n",
    "https://gitpitch.com/rsnk96/fast-cv/master#/3/4\n",
    "## CV the normal way"
   ]
  },
  {
   "cell_type": "code",
   "execution_count": null,
   "metadata": {},
   "outputs": [],
   "source": [
    "import cv2\n",
    "import numpy as np\n",
    "\n",
    "def process_video():\n",
    "    cap = cv2.VideoCapture(\"input_file.mp4\")\n",
    "    out = cv2.VideoWriter(\"output_file.avi\", ...)\n",
    "    while (cap.isOpened()):\n",
    "      ret, frame = cap.read()\n",
    "      # ... DO SOME STUFF TO frame... #\n",
    "      out.write(frame)\n",
    " \n",
    "process_video()"
   ]
  },
  {
   "cell_type": "markdown",
   "metadata": {},
   "source": [
    "## CV the multiprocessing way"
   ]
  },
  {
   "cell_type": "code",
   "execution_count": null,
   "metadata": {},
   "outputs": [],
   "source": [
    "def process_video(group_number): \n",
    "    cap = cv2.VideoCapture(\"input_file.mp4\")\n",
    "    cap.set(cv2.CAP_PROP_POS_FRAMES, frame_jump * group_number)\n",
    "    proc_frames = 0\n",
    "    out = cv2.VideoWriter(\"output_{}.avi\".format(group_number), ...)\n",
    "    while proc_frames < frame_jump:\n",
    "        ret, frame = cap.read() \n",
    "        # ... DO SOME STUFF TO frame ... # \n",
    "        proc_frames += 1 \n",
    "        out.write(frame)\n",
    "    return None\n",
    " \n",
    "import multiprocessing as mp\n",
    "num_processes = mp.cpu_count()\n",
    "num_frames = cv2.VideoCapture(\"input_file.mp4\").get(cv2.CAP_PROP_FRAME_COUNT)\n",
    "frame_jump =  num_frames // num_processes\n",
    "\n",
    "p = mp.Pool(num_processes)\n",
    "p.map(process_video, range(num_processes))\n",
    "\n",
    "with open(\"temp_files.txt\", \"w\") as f:\n",
    "    for t in [\"output_{}.avi\".format(i) for i in range(num_processes)]:\n",
    "        f.write(\"file {} \\n\".format(t))\n",
    "    ffmpeg_command = \"ffmpeg -f concat -safe 0 -i temp_files.txt -vcodec copy\"\n",
    "    sp.Popen(ffmpeg_command, shell=True).wait()"
   ]
  },
  {
   "cell_type": "markdown",
   "metadata": {},
   "source": [
    "## CUDA\n",
    "https://gitpitch.com/rsnk96/fast-cv/master#/4/5\n",
    "\n",
    "Decorator to make python function into CUDA kernel"
   ]
  },
  {
   "cell_type": "code",
   "execution_count": null,
   "metadata": {},
   "outputs": [],
   "source": [
    "@cuda.jit\n",
    "def image_conv(ip_img, kernel, op_img, channels, w, h):\n",
    "    r, c = cuda.grid(2) # Finding the global position of the thread\n",
    " \n",
    "    kernel_c = cuda.const.array_like(conv_window)\n",
    " \n",
    "    for b in range(BATCH):\n",
    "        # Do some stuff"
   ]
  }
 ],
 "metadata": {
  "kernelspec": {
   "display_name": "OpenCV",
   "language": "python",
   "name": "opencv"
  },
  "language_info": {
   "codemirror_mode": {
    "name": "ipython",
    "version": 3
   },
   "file_extension": ".py",
   "mimetype": "text/x-python",
   "name": "python",
   "nbconvert_exporter": "python",
   "pygments_lexer": "ipython3",
   "version": "3.7.3"
  }
 },
 "nbformat": 4,
 "nbformat_minor": 2
}
